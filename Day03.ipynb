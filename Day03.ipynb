{
 "cells": [
  {
   "cell_type": "markdown",
   "id": "54bc1fbc-7422-41e6-9d91-1f7ead81c359",
   "metadata": {},
   "source": [
    "# **Day03 of Machine Learning**"
   ]
  },
  {
   "cell_type": "markdown",
   "id": "83daa561-eede-49fa-8aae-9fba8626c824",
   "metadata": {},
   "source": [
    "## **Estimates of Variability** \n",
    "Variability, also known as dispersion, measures whether the data values are tightly clustered or spread out. \\\n",
    "Hence, **Estimates of variability** (also called measures of dispersion or spread) describe how spread out or scattered the data values are around the central tendency (mean, median, or mode). These estimates help to understand the range, consistency, and reliability of the data. Understanding variability is essential because it gives insight into the diversity of the data and how well the central measures represent the dataset."
   ]
  },
  {
   "cell_type": "markdown",
   "id": "25c2d882-e6b2-4fdc-930d-d2b5d009643f",
   "metadata": {},
   "source": [
    "The main estimates of variability are:"
   ]
  },
  {
   "cell_type": "markdown",
   "id": "659f5315-b8c6-4e08-8ee2-579b77859d0f",
   "metadata": {},
   "source": [
    "#### **1. Mean Absolute Deviation** \n",
    "The Mean Absolute Deviation is a measure of variability that tells us how spread out the data is, on average, from the mean (or another central point like the median). It is particularly useful for understanding how much the data points deviate from a central value in absolute terms, meaning we disregard the direction (positive or negative) of the deviation.\n",
    "- The difference between a data point and the mean (or another central point). It can be positive or negative.\n",
    "- It gives an idea of the average distance between each data point and the mean, offering a clear picture of the dataset's variability.\n",
    "- It is often simpler and less sensitive to extreme values (outliers) compared to the standard deviation.\n",
    "\n",
    "$$\n",
    "    \\text{Mean Absolute Deviation} = \\frac{1}{n} \\sum_{i=1}^{n} |x_i - \\bar{x}|\n",
    "$$"
   ]
  },
  {
   "cell_type": "code",
   "execution_count": 21,
   "id": "77cbdb90-445e-4ab9-89fc-1fd37d286dda",
   "metadata": {},
   "outputs": [],
   "source": [
    "import statistics\n",
    "import numpy as np\n",
    "import pandas as pd\n",
    "import scipy.stats as stats"
   ]
  },
  {
   "cell_type": "code",
   "execution_count": 22,
   "id": "a88a1d19-d977-462f-bba2-2d07979d1c62",
   "metadata": {},
   "outputs": [],
   "source": [
    "marks = [77, 59, 64, 85, 75, 68, 80, 73, 59]"
   ]
  },
  {
   "cell_type": "code",
   "execution_count": 23,
   "id": "98b1e183-379c-449f-95e9-757dab8667fb",
   "metadata": {},
   "outputs": [],
   "source": [
    "arr = np.array([18, 26, 31, 9, 10, 26, 22, 36, 20])"
   ]
  },
  {
   "cell_type": "code",
   "execution_count": 24,
   "id": "894276cf-fcfa-48c5-ba46-5e16e056b014",
   "metadata": {},
   "outputs": [],
   "source": [
    "rock = pd.read_csv(\"datasets/rockR.csv\", index_col=0)"
   ]
  },
  {
   "cell_type": "code",
   "execution_count": 25,
   "id": "08ed349a-e056-42c5-aa78-e1cd4b980219",
   "metadata": {},
   "outputs": [
    {
     "data": {
      "text/plain": [
       "6.888888888888889"
      ]
     },
     "execution_count": 25,
     "metadata": {},
     "output_type": "execute_result"
    }
   ],
   "source": [
    "#using numpy\n",
    "arr_mean = np.mean(arr)\n",
    "\n",
    "mean_absolute_deviation = np.mean(np.abs(arr - arr_mean))\n",
    "mean_absolute_deviation"
   ]
  },
  {
   "cell_type": "code",
   "execution_count": 26,
   "id": "e8c030d7-e726-4247-a18b-38cdbaed4bb3",
   "metadata": {},
   "outputs": [
    {
     "data": {
      "text/plain": [
       "area     2133.846354\n",
       "peri     1330.352646\n",
       "shape       0.064423\n",
       "perm      397.125000\n",
       "dtype: float64"
      ]
     },
     "execution_count": 26,
     "metadata": {},
     "output_type": "execute_result"
    }
   ],
   "source": [
    "#using pandas dataframe\n",
    "rock_mean_abs_dev = np.mean(np.abs(rock - np.mean(rock, axis=0)), axis=0)\n",
    "rock_mean_abs_dev"
   ]
  },
  {
   "cell_type": "markdown",
   "id": "49574cb7-813a-454e-9188-ba81dfb1f4aa",
   "metadata": {},
   "source": [
    "&nbsp;"
   ]
  },
  {
   "cell_type": "markdown",
   "id": "c1342ce2-6d5c-42f8-bfca-83e59fdb6c01",
   "metadata": {},
   "source": [
    "#### **2. Median Absolute Deviation** \n",
    "The Median Absolute Deviation (MAD) is a robust measure of the variability or dispersion in a dataset. Unlike the mean absolute deviation or the standard deviation, which are sensitive to outliers, the median absolute deviation focuses on the median (instead of the mean), making it more resistant to the influence of extreme values. It is widely used in robust statistics as a reliable indicator of the spread when data contains outliers.\n",
    "- It is not influenced by extreme values, making it more reliable for skewed data or datasets with outliers.\n",
    "- When the data doesn’t follow a normal distribution or contains heavy tails, it is a more appropriate measure than the standard deviation.\n",
    "- It can be used to detect outliers. Values that deviate significantly (usually more than a few MADs) from the median can be considered outliers.\n",
    "$$\n",
    "    \\text{Median Absolute Deviation (MAD)} = \\text{median} \\left( |x_i - \\text{median}(x)| \\right)\r\n",
    "$$"
   ]
  },
  {
   "cell_type": "code",
   "execution_count": 27,
   "id": "60d217f8-b663-49ab-a305-51ccdaea29cd",
   "metadata": {},
   "outputs": [
    {
     "data": {
      "text/plain": [
       "4.0"
      ]
     },
     "execution_count": 27,
     "metadata": {},
     "output_type": "execute_result"
    }
   ],
   "source": [
    "#using scipy\n",
    "mad = stats.median_abs_deviation(arr)\n",
    "mad"
   ]
  },
  {
   "cell_type": "code",
   "execution_count": 28,
   "id": "26d8912c-28a3-4728-8755-b63251413548",
   "metadata": {},
   "outputs": [
    {
     "data": {
      "text/plain": [
       "array([1.87950e+03, 1.33993e+03, 4.50255e-02, 1.18800e+02])"
      ]
     },
     "execution_count": 28,
     "metadata": {},
     "output_type": "execute_result"
    }
   ],
   "source": [
    "stats.median_abs_deviation(rock)"
   ]
  },
  {
   "cell_type": "markdown",
   "id": "1d0061fb-a5fe-4885-9cf2-3d01b6419862",
   "metadata": {},
   "source": [
    "&nbsp;"
   ]
  },
  {
   "cell_type": "markdown",
   "id": "cfba551d-4981-40ae-94d2-1afc252f27d8",
   "metadata": {},
   "source": [
    "#### **3. Variance** \n",
    "Variance is the average of the squared differences between each data point and the mean. It measures how much the data points deviate from the mean on average.\n",
    "- It gives more weight to values far from the mean because it squares the differences. \n",
    "- Larger variances indicate that data points are more spread out from the mean.\n",
    "- The units of variance are the square of the original data units, making interpretation less intuitive.\n",
    "\n",
    "$$\n",
    "    \\text{Population Variance}(\\sigma^2) = \\frac{1}{N} \\sum_{i=1}^{N} (x_i - \\mu)^2\n",
    "$$\n",
    "\n",
    "$$\n",
    "    \\text{Sample Variance} (s^2) = \\frac{1}{n-1} \\sum_{i=1}^{n} (x_i - \\bar{x})^2\r\n",
    "$$"
   ]
  },
  {
   "cell_type": "code",
   "execution_count": 29,
   "id": "60c45ab2-c461-4235-8bb1-d4c947570abb",
   "metadata": {},
   "outputs": [
    {
     "data": {
      "text/plain": [
       "71.33333333333333"
      ]
     },
     "execution_count": 29,
     "metadata": {},
     "output_type": "execute_result"
    }
   ],
   "source": [
    "#using numpy\n",
    "np.var(arr)"
   ]
  },
  {
   "cell_type": "code",
   "execution_count": 30,
   "id": "9cfb420c-aad7-4139-a0fd-e4b65304316e",
   "metadata": {},
   "outputs": [
    {
     "data": {
      "text/plain": [
       "area     7.052981e+06\n",
       "peri     2.006953e+06\n",
       "shape    6.826414e-03\n",
       "perm     1.876914e+05\n",
       "dtype: float64"
      ]
     },
     "execution_count": 30,
     "metadata": {},
     "output_type": "execute_result"
    }
   ],
   "source": [
    "#using numpy\n",
    "np.var(rock, axis=0)"
   ]
  },
  {
   "cell_type": "code",
   "execution_count": 31,
   "id": "0324b4bb-7f27-443f-89b1-cd001c5e4e8b",
   "metadata": {},
   "outputs": [
    {
     "data": {
      "text/plain": [
       "area     7.203045e+06\n",
       "peri     2.049654e+06\n",
       "shape    6.971657e-03\n",
       "perm     1.916848e+05\n",
       "dtype: float64"
      ]
     },
     "execution_count": 31,
     "metadata": {},
     "output_type": "execute_result"
    }
   ],
   "source": [
    "#using pandas\n",
    "rock.var()"
   ]
  },
  {
   "cell_type": "markdown",
   "id": "2c90ceb3-16d9-4541-b180-6fead1697e9f",
   "metadata": {},
   "source": [
    "&nbsp;"
   ]
  },
  {
   "cell_type": "markdown",
   "id": "774fb946-2348-468e-88fa-11971020a4c5",
   "metadata": {},
   "source": [
    "#### **4. Standard Deviation** \n",
    "Standard deviation (SD) is the square root of variance, bringing the units back to the same scale as the original data. It shows how much, on average, each data point deviates from the mean.\n",
    "- It is more interpretable than variance because it has the same units as the original data.\n",
    "- A smaller standard deviation indicates that data points are clustered closely around the mean, while a larger standard deviation indicates that data points are spread out.\n",
    "\n",
    "$$\n",
    "    \\text{Population Standard Deviation} (\\sigma) = \\sqrt{\\text{Population Variance}} = \\sqrt{\\frac{1}{N} \\sum_{i=1}^{N} (x_i - \\mu)^2}\n",
    "$$\n",
    "\n",
    "$$\n",
    "    \\text{Sample Standard Deviation} (s) = \\sqrt{\\text{Sample Variance}} = \\sqrt{\\frac{1}{n-1} \\sum_{i=1}^{n} (x_i - \\bar{x})^2}\n",
    "$$"
   ]
  },
  {
   "cell_type": "markdown",
   "id": "9695e20d-b614-4ec1-8322-f8337b70e091",
   "metadata": {},
   "source": [
    "&nbsp;"
   ]
  },
  {
   "cell_type": "code",
   "execution_count": 32,
   "id": "59c19359-c233-418b-a7a7-1d4b0103d5a1",
   "metadata": {},
   "outputs": [
    {
     "data": {
      "text/plain": [
       "8.445906306213285"
      ]
     },
     "execution_count": 32,
     "metadata": {},
     "output_type": "execute_result"
    }
   ],
   "source": [
    "#using numpy\n",
    "np.std(arr)"
   ]
  },
  {
   "cell_type": "code",
   "execution_count": 33,
   "id": "5ed3709e-4896-4d69-8e23-950514d1c8ad",
   "metadata": {},
   "outputs": [
    {
     "data": {
      "text/plain": [
       "area     2655.744958\n",
       "peri     1416.669535\n",
       "shape       0.082622\n",
       "perm      433.233616\n",
       "dtype: float64"
      ]
     },
     "execution_count": 33,
     "metadata": {},
     "output_type": "execute_result"
    }
   ],
   "source": [
    "#using numpy\n",
    "np.std(rock, axis=0)"
   ]
  },
  {
   "cell_type": "code",
   "execution_count": 34,
   "id": "f16e8941-4b50-4b18-8614-b99af03c4e77",
   "metadata": {},
   "outputs": [
    {
     "data": {
      "text/plain": [
       "area     2683.848862\n",
       "peri     1431.661164\n",
       "shape       0.083496\n",
       "perm      437.818226\n",
       "dtype: float64"
      ]
     },
     "execution_count": 34,
     "metadata": {},
     "output_type": "execute_result"
    }
   ],
   "source": [
    "#using pandas\n",
    "rock.std()"
   ]
  },
  {
   "cell_type": "markdown",
   "id": "10647028-5b1c-48d6-801d-37e3bfa21d8c",
   "metadata": {},
   "source": [
    "&nbsp;"
   ]
  },
  {
   "cell_type": "markdown",
   "id": "06765bc9-3d46-417f-bcba-5f385be1e76e",
   "metadata": {},
   "source": [
    "#### **5. Range** \n",
    "The range is a basic measure of dispersion in statistics that represents the difference between the highest and lowest values in a dataset. It gives an idea of how spread out the data points are but doesn’t provide detailed information about the distribution of values between the extremes.\n",
    "- It only accounts for the two extreme values (the maximum and minimum) in a dataset. As a result, it ignores the distribution of the other data points.\n",
    "- The range is highly sensitive to outliers because even one unusually high or low value can dramatically change the range.\n",
    "- While the range gives a sense of the spread of data, it does not provide any insight into the shape or variability of the distribution between the minimum and maximum values.\n",
    "\n",
    "$$\n",
    "    Range = Max - Min\n",
    "$$"
   ]
  },
  {
   "cell_type": "code",
   "execution_count": 35,
   "id": "0b914c04-b350-4bd2-afcc-b6d35b34476a",
   "metadata": {},
   "outputs": [
    {
     "data": {
      "text/plain": [
       "27"
      ]
     },
     "execution_count": 35,
     "metadata": {},
     "output_type": "execute_result"
    }
   ],
   "source": [
    "#using numpy\n",
    "arr_range = np.max(arr) - np.min(arr)\n",
    "arr_range"
   ]
  },
  {
   "cell_type": "code",
   "execution_count": 36,
   "id": "bafca30a-1529-4b48-a0c9-e7c73c82fad1",
   "metadata": {},
   "outputs": [
    {
     "data": {
      "text/plain": [
       "area     11196.000000\n",
       "peri      4555.578000\n",
       "shape        0.373795\n",
       "perm      1293.700000\n",
       "dtype: float64"
      ]
     },
     "execution_count": 36,
     "metadata": {},
     "output_type": "execute_result"
    }
   ],
   "source": [
    "#using pandas\n",
    "rock_range = rock.max() - rock.min()\n",
    "rock_range"
   ]
  },
  {
   "cell_type": "markdown",
   "id": "2796c8cc-94a9-4015-9698-711ef33078b8",
   "metadata": {},
   "source": [
    "&nbsp;"
   ]
  },
  {
   "cell_type": "markdown",
   "id": "88edafae-8eaa-4edb-a1c4-1f105ad02bf4",
   "metadata": {},
   "source": [
    "#### **3. IQR - Interquartile Range** \n",
    "The Interquartile Range (IQR) is a robust measure of statistical dispersion that indicates the spread of the middle 50% of the data. It measures the difference between the first quartile (Q1) and the third quartile (Q3), thus showing where the central portion of the dataset lies and ignoring the extreme values (outliers).\n",
    "- Unlike the range, which is sensitive to extreme values, the IQR focuses on the middle 50% of the data and completely ignores the highest and lowest quarters. This makes it a more reliable measure when outliers are present.\n",
    "- The IQR is based on quartiles, which divide the data into four equal parts. The IQR captures the spread of the central two quartiles. This helps analysts understand where the \"bulk\" of the data lies, giving insights into the distribution's concentration.\n",
    "\n",
    "$$\n",
    "    IQR = Q_3 - Q_1\n",
    "$$"
   ]
  },
  {
   "cell_type": "code",
   "execution_count": 37,
   "id": "927b276c-01de-48db-814b-b2c5014da0d1",
   "metadata": {},
   "outputs": [
    {
     "data": {
      "text/plain": [
       "0.040000000000000924"
      ]
     },
     "execution_count": 37,
     "metadata": {},
     "output_type": "execute_result"
    }
   ],
   "source": [
    "#using numpy\n",
    "q1 = np.percentile(arr, 0.25)\n",
    "q3 = np.percentile(arr, 0.75)\n",
    "\n",
    "arr_iqr = q3 - q1\n",
    "arr_iqr"
   ]
  },
  {
   "cell_type": "code",
   "execution_count": 38,
   "id": "4cbb29fe-24f5-40e9-9e20-7457c56618d4",
   "metadata": {},
   "outputs": [
    {
     "data": {
      "text/plain": [
       "4342.75646875"
      ]
     },
     "execution_count": 38,
     "metadata": {},
     "output_type": "execute_result"
    }
   ],
   "source": [
    "#using scipy \n",
    "stats.iqr(rock)"
   ]
  },
  {
   "cell_type": "code",
   "execution_count": 39,
   "id": "d0c75e5c-8a86-45a4-b6f6-b4a525a8450b",
   "metadata": {},
   "outputs": [],
   "source": [
    "#using pandas\n",
    "rock_q1 = rock.quantile(0.25)\n",
    "rock_q3 = rock.quantile(0.75)"
   ]
  },
  {
   "cell_type": "code",
   "execution_count": 40,
   "id": "f4f77d49-7edf-4612-8290-3f6eda657527",
   "metadata": {
    "scrolled": true
   },
   "outputs": [
    {
     "data": {
      "text/plain": [
       "area     3564.250000\n",
       "peri     2574.615000\n",
       "shape       0.100408\n",
       "perm      701.050000\n",
       "dtype: float64"
      ]
     },
     "execution_count": 40,
     "metadata": {},
     "output_type": "execute_result"
    }
   ],
   "source": [
    "rock_iqr = rock_q3 - rock_q1\n",
    "rock_iqr"
   ]
  },
  {
   "cell_type": "code",
   "execution_count": null,
   "id": "0f879c01-b4b4-4ffe-ba66-e8e6df304696",
   "metadata": {},
   "outputs": [],
   "source": []
  }
 ],
 "metadata": {
  "kernelspec": {
   "display_name": "Python 3 (ipykernel)",
   "language": "python",
   "name": "python3"
  },
  "language_info": {
   "codemirror_mode": {
    "name": "ipython",
    "version": 3
   },
   "file_extension": ".py",
   "mimetype": "text/x-python",
   "name": "python",
   "nbconvert_exporter": "python",
   "pygments_lexer": "ipython3",
   "version": "3.12.4"
  }
 },
 "nbformat": 4,
 "nbformat_minor": 5
}
