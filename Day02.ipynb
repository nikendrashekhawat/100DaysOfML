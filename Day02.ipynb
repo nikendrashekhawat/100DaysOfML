{
 "cells": [
  {
   "cell_type": "markdown",
   "id": "b5b16212-8a85-4fdc-a177-7d9ae0661eaa",
   "metadata": {},
   "source": [
    "# **Day02 of Machine Learning**"
   ]
  },
  {
   "cell_type": "markdown",
   "id": "347ff233-2112-4bd0-8d37-aae8f43695d3",
   "metadata": {},
   "source": [
    "## **Estimates of Location** \n",
    "Variables with measured or count data might have thousands of distinct values. A basic step in exploring the data is getting a \"typical value\" for each feature(variable): an estimate of where most of the data is located. \\\n",
    "Hence, **Estimates of location**, also known as *measures of central tendency*, are statistical metrics used to describe the center or typical value of a data set. These estimates provide an idea of where most of the data points are situated."
   ]
  },
  {
   "cell_type": "markdown",
   "id": "cc59b864-6d6a-4f09-b805-b02b6e48aaf1",
   "metadata": {},
   "source": [
    "The main estimates of location are:"
   ]
  },
  {
   "cell_type": "markdown",
   "id": "5ff39307-1846-432f-94e0-34ede9f7b166",
   "metadata": {},
   "source": [
    "#### **1. Mean** \n",
    "The mean is the sum of all values in a dataset divided by the number of values. It represents the *\"average\"* of the data.\n",
    "- It is sensitive to extreme values (outliers), meaning it can be distorted if the data includes significantly high or low numbers. \n",
    "- It is best suited for data that follows a *normal distribution*.\n",
    "$$ \n",
    "    \\text{Mean} (\\mu) = \\frac{1}{n} \\sum_{i=1}^{n} x_i\n",
    "$$\n"
   ]
  },
  {
   "cell_type": "code",
   "execution_count": 1,
   "id": "d35b05e6-3387-4bf2-906b-0bef5fb5ab93",
   "metadata": {},
   "outputs": [],
   "source": [
    "import statistics\n",
    "import numpy as np\n",
    "import pandas as pd\n",
    "import scipy.stats as stats"
   ]
  },
  {
   "cell_type": "code",
   "execution_count": 2,
   "id": "c54906e3-e441-4347-8e57-3eaf82fa7b69",
   "metadata": {},
   "outputs": [],
   "source": [
    "marks = [77, 59, 64, 85, 75, 68, 80, 73, 59]"
   ]
  },
  {
   "cell_type": "code",
   "execution_count": 3,
   "id": "291f1b4e-a101-4b89-a31a-ec20ded8e165",
   "metadata": {},
   "outputs": [
    {
     "data": {
      "text/plain": [
       "71.11111111111111"
      ]
     },
     "execution_count": 3,
     "metadata": {},
     "output_type": "execute_result"
    }
   ],
   "source": [
    "#using sum and len methods\n",
    "sum(marks) / len(marks)"
   ]
  },
  {
   "cell_type": "code",
   "execution_count": 4,
   "id": "29a774ac-93e1-4ec1-b8f1-d1190fd4c5b6",
   "metadata": {},
   "outputs": [
    {
     "data": {
      "text/plain": [
       "71.11111111111111"
      ]
     },
     "execution_count": 4,
     "metadata": {},
     "output_type": "execute_result"
    }
   ],
   "source": [
    "#using Python Standard Library\n",
    "statistics.mean(marks)"
   ]
  },
  {
   "cell_type": "code",
   "execution_count": 5,
   "id": "8ed4eae3-3352-42c5-8732-8befe98ff53e",
   "metadata": {},
   "outputs": [
    {
     "data": {
      "text/plain": [
       "22.0"
      ]
     },
     "execution_count": 5,
     "metadata": {},
     "output_type": "execute_result"
    }
   ],
   "source": [
    "#using numpy\n",
    "arr = np.array([18, 26, 31, 9, 10, 26, 22, 36, 20])\n",
    "np.mean(arr)"
   ]
  },
  {
   "cell_type": "code",
   "execution_count": 22,
   "id": "f9a5e85e-1cab-4fda-8614-a3414d522ffa",
   "metadata": {},
   "outputs": [
    {
     "data": {
      "text/html": [
       "<div>\n",
       "<style scoped>\n",
       "    .dataframe tbody tr th:only-of-type {\n",
       "        vertical-align: middle;\n",
       "    }\n",
       "\n",
       "    .dataframe tbody tr th {\n",
       "        vertical-align: top;\n",
       "    }\n",
       "\n",
       "    .dataframe thead th {\n",
       "        text-align: right;\n",
       "    }\n",
       "</style>\n",
       "<table border=\"1\" class=\"dataframe\">\n",
       "  <thead>\n",
       "    <tr style=\"text-align: right;\">\n",
       "      <th></th>\n",
       "      <th>height</th>\n",
       "      <th>weight</th>\n",
       "    </tr>\n",
       "  </thead>\n",
       "  <tbody>\n",
       "    <tr>\n",
       "      <th>1</th>\n",
       "      <td>58</td>\n",
       "      <td>115</td>\n",
       "    </tr>\n",
       "    <tr>\n",
       "      <th>2</th>\n",
       "      <td>59</td>\n",
       "      <td>117</td>\n",
       "    </tr>\n",
       "    <tr>\n",
       "      <th>3</th>\n",
       "      <td>60</td>\n",
       "      <td>120</td>\n",
       "    </tr>\n",
       "    <tr>\n",
       "      <th>4</th>\n",
       "      <td>61</td>\n",
       "      <td>123</td>\n",
       "    </tr>\n",
       "    <tr>\n",
       "      <th>5</th>\n",
       "      <td>62</td>\n",
       "      <td>126</td>\n",
       "    </tr>\n",
       "  </tbody>\n",
       "</table>\n",
       "</div>"
      ],
      "text/plain": [
       "   height  weight\n",
       "1      58     115\n",
       "2      59     117\n",
       "3      60     120\n",
       "4      61     123\n",
       "5      62     126"
      ]
     },
     "execution_count": 22,
     "metadata": {},
     "output_type": "execute_result"
    }
   ],
   "source": [
    "#using pandas\n",
    "women = pd.read_csv(\"datasets/womenR.csv\", index_col=0)\n",
    "women.head()"
   ]
  },
  {
   "cell_type": "code",
   "execution_count": 7,
   "id": "c8a5f9d8-18c7-4818-ad77-7b4845522abb",
   "metadata": {},
   "outputs": [
    {
     "data": {
      "text/plain": [
       "height     65.000000\n",
       "weight    136.733333\n",
       "dtype: float64"
      ]
     },
     "execution_count": 7,
     "metadata": {},
     "output_type": "execute_result"
    }
   ],
   "source": [
    "women.mean()"
   ]
  },
  {
   "cell_type": "markdown",
   "id": "7484b73d-129d-4ace-81ab-66d2b1867350",
   "metadata": {},
   "source": [
    "&nbsp;"
   ]
  },
  {
   "cell_type": "markdown",
   "id": "d0a11287-6b44-4948-ac1a-98b0af3f1855",
   "metadata": {},
   "source": [
    "#### **2. Median**\n",
    "The median is the middle value of a dataset when the data points are arranged in ascending or descending order. If the number of data points is odd, it is the exact middle value; if even, it is the average of the two middle values. Compared to the mean, which uses all observations, the median depends only on the values in the center of the sorted data.\n",
    "- The median is less affected by outliers and skewed data, making it a better measure of central tendency when dealing with non-normal or skewed distributions.\n",
    "- It’s especially useful for ordinal data or data with skewed distributions."
   ]
  },
  {
   "cell_type": "code",
   "execution_count": 8,
   "id": "25ccff28-5618-490b-a296-717456853aa7",
   "metadata": {},
   "outputs": [
    {
     "data": {
      "text/plain": [
       "73"
      ]
     },
     "execution_count": 8,
     "metadata": {},
     "output_type": "execute_result"
    }
   ],
   "source": [
    "#using python standard library\n",
    "statistics.median(marks)"
   ]
  },
  {
   "cell_type": "code",
   "execution_count": 9,
   "id": "f6c1d5f3-13d9-4e30-85a1-8ced482c7e62",
   "metadata": {},
   "outputs": [
    {
     "data": {
      "text/plain": [
       "22.0"
      ]
     },
     "execution_count": 9,
     "metadata": {},
     "output_type": "execute_result"
    }
   ],
   "source": [
    "#using numpy\n",
    "np.median(arr)"
   ]
  },
  {
   "cell_type": "code",
   "execution_count": 10,
   "id": "2ea465b1-6dab-412e-8a29-8bae3d2f9377",
   "metadata": {},
   "outputs": [
    {
     "data": {
      "text/plain": [
       "height     65.0\n",
       "weight    135.0\n",
       "dtype: float64"
      ]
     },
     "execution_count": 10,
     "metadata": {},
     "output_type": "execute_result"
    }
   ],
   "source": [
    "#using pandas\n",
    "women.median()"
   ]
  },
  {
   "cell_type": "markdown",
   "id": "53c00295-f37a-47d0-a64a-8ed2b932f880",
   "metadata": {},
   "source": [
    "&nbsp;"
   ]
  },
  {
   "cell_type": "markdown",
   "id": "33fc2c3b-0bce-409e-9000-f136a5a32f85",
   "metadata": {},
   "source": [
    "#### **3. Mode**\n",
    "The mode is the value or (values in case of a tie) that appears most frequently in a dataset. A dataset can have more than one mode (bimodal, multimodal), or no mode at all if all values occur with equal frequency.\n",
    "- It is a simple summary statistic for categorical data, and it is generally not used for numeric data.\n",
    "- It is less sensitive to outliers but can be less informative for continuous or large datasets where many values are unique."
   ]
  },
  {
   "cell_type": "code",
   "execution_count": 11,
   "id": "876b1d94-254c-4db8-93bc-da3f6dbe4048",
   "metadata": {},
   "outputs": [
    {
     "data": {
      "text/plain": [
       "59"
      ]
     },
     "execution_count": 11,
     "metadata": {},
     "output_type": "execute_result"
    }
   ],
   "source": [
    "#using python standard library\n",
    "statistics.mode(marks)"
   ]
  },
  {
   "cell_type": "code",
   "execution_count": 12,
   "id": "d7144d86-c79f-4985-9155-be4bb4e90a67",
   "metadata": {},
   "outputs": [
    {
     "data": {
      "text/plain": [
       "ModeResult(mode=26, count=2)"
      ]
     },
     "execution_count": 12,
     "metadata": {},
     "output_type": "execute_result"
    }
   ],
   "source": [
    "#using scipy\n",
    "stats.mode(arr)"
   ]
  },
  {
   "cell_type": "code",
   "execution_count": 13,
   "id": "b1265456-3f50-42bc-bb95-f8f5d0a1913a",
   "metadata": {},
   "outputs": [
    {
     "data": {
      "text/html": [
       "<div>\n",
       "<style scoped>\n",
       "    .dataframe tbody tr th:only-of-type {\n",
       "        vertical-align: middle;\n",
       "    }\n",
       "\n",
       "    .dataframe tbody tr th {\n",
       "        vertical-align: top;\n",
       "    }\n",
       "\n",
       "    .dataframe thead th {\n",
       "        text-align: right;\n",
       "    }\n",
       "</style>\n",
       "<table border=\"1\" class=\"dataframe\">\n",
       "  <thead>\n",
       "    <tr style=\"text-align: right;\">\n",
       "      <th></th>\n",
       "      <th>arr</th>\n",
       "    </tr>\n",
       "  </thead>\n",
       "  <tbody>\n",
       "    <tr>\n",
       "      <th>0</th>\n",
       "      <td>26</td>\n",
       "    </tr>\n",
       "  </tbody>\n",
       "</table>\n",
       "</div>"
      ],
      "text/plain": [
       "   arr\n",
       "0   26"
      ]
     },
     "execution_count": 13,
     "metadata": {},
     "output_type": "execute_result"
    }
   ],
   "source": [
    "#using pandas\n",
    "demo = pd.DataFrame(arr, columns=[\"arr\"])\n",
    "demo.mode()"
   ]
  },
  {
   "cell_type": "markdown",
   "id": "e9c4e732-e6d0-448c-a9f7-c70f69cdac19",
   "metadata": {},
   "source": [
    "&nbsp;"
   ]
  },
  {
   "cell_type": "markdown",
   "id": "d986c559-86a9-4499-bf75-a547b1c751f3",
   "metadata": {},
   "source": [
    "#### **4. Trimmed Mean**\n",
    "The trimmed mean is similar to the arithmetic mean but calculated after removing a certain percentage of the largest and smallest values from the dataset. This helps reduce the influence of outliers.\n",
    "- It provides a more robust estimate of the central tendency in datasets that contain extreme values.\n",
    "- It is commonly used in situations where data may have errors or outliers that could distort the simple mean."
   ]
  },
  {
   "cell_type": "code",
   "execution_count": 14,
   "id": "563994bc-d444-4750-bb14-ea76d68268a1",
   "metadata": {},
   "outputs": [
    {
     "data": {
      "text/plain": [
       "21.857142857142858"
      ]
     },
     "execution_count": 14,
     "metadata": {},
     "output_type": "execute_result"
    }
   ],
   "source": [
    "#using scipy\n",
    "stats.trim_mean(arr, 0.2)"
   ]
  },
  {
   "cell_type": "code",
   "execution_count": 15,
   "id": "f5b342fb-e254-43d6-97bc-e58591e36774",
   "metadata": {},
   "outputs": [
    {
     "data": {
      "text/plain": [
       "array([ 65.        , 135.77777778])"
      ]
     },
     "execution_count": 15,
     "metadata": {},
     "output_type": "execute_result"
    }
   ],
   "source": [
    "#using scipy\n",
    "stats.trim_mean(women, 0.2)"
   ]
  },
  {
   "cell_type": "markdown",
   "id": "42aa33cd-2b8f-4bb3-8f3e-f1a2fe5e10f6",
   "metadata": {},
   "source": [
    "&nbsp;"
   ]
  },
  {
   "cell_type": "markdown",
   "id": "3f185838-5a75-4e4e-8466-ff8867d2d80b",
   "metadata": {},
   "source": [
    "#### **5. Weighted Mean**\n",
    "The weighted mean accounts for the importance (or weight) of each data point. Each value is multiplied by a corresponding weight (user specified), and the sum of these products is divided by the sum of the weights.\n",
    "- Some values are intrinsically more variable than others, and highly variables observations are given a lower weight.\n",
    "- The data collected does not equally represent the different groups that we are interested in measuring.\n",
    "\n",
    "$$ \n",
    "   \\text{Weighted Mean} (\\bar{x}) = \\frac{\\sum_{i=1}^{n} w_i x_i}{\\sum_{i=1}^{n} w_i}\r\n",
    "$$"
   ]
  },
  {
   "cell_type": "code",
   "execution_count": 16,
   "id": "48817ba1-e42d-4379-abb6-efedb9b33861",
   "metadata": {},
   "outputs": [
    {
     "data": {
      "text/plain": [
       "23.852941176470587"
      ]
     },
     "execution_count": 16,
     "metadata": {},
     "output_type": "execute_result"
    }
   ],
   "source": [
    "#using numpy\n",
    "w = np.array([2,5,6,5,2,2,3,6,3])\n",
    "np.average(arr, weights=w)"
   ]
  },
  {
   "cell_type": "code",
   "execution_count": 17,
   "id": "204528d7-e457-4b8d-b168-3873520a04ff",
   "metadata": {},
   "outputs": [
    {
     "data": {
      "text/plain": [
       "65.47098976109216"
      ]
     },
     "execution_count": 17,
     "metadata": {},
     "output_type": "execute_result"
    }
   ],
   "source": [
    "# using numpy on pandas columns\n",
    "np.average(women[\"height\"], weights=women[\"weight\"])"
   ]
  },
  {
   "cell_type": "markdown",
   "id": "7dc99d34-94e1-44ee-85ff-963e2624a169",
   "metadata": {},
   "source": [
    "&nbsp;"
   ]
  },
  {
   "cell_type": "markdown",
   "id": "77235cbe-096c-4271-9432-795ccce56b8b",
   "metadata": {},
   "source": [
    "#### **6. Harmonic Mean**\n",
    "The harmonic mean is the reciprocal of the arithmetic mean of the reciprocals of the data values. It is particularly useful for rates and ratios.\n",
    "- It is more appropriate for datasets where large values have disproportionately less impact, such as rates (e.g., speed or price per unit).\n",
    "- It is highly sensitive to small values in the dataset.\n",
    "\n",
    "$$ \n",
    "\\text{Harmonic Mean (H)} = \\frac{n}{\\sum_{i=1}^{n} \\frac{1}{x_i}}\n",
    "$$"
   ]
  },
  {
   "cell_type": "code",
   "execution_count": 18,
   "id": "b6877603-be16-4182-bfe0-382370223325",
   "metadata": {},
   "outputs": [
    {
     "data": {
      "text/plain": [
       "18.033176307516147"
      ]
     },
     "execution_count": 18,
     "metadata": {},
     "output_type": "execute_result"
    }
   ],
   "source": [
    "#using scipy \n",
    "stats.hmean(arr)"
   ]
  },
  {
   "cell_type": "code",
   "execution_count": 19,
   "id": "c362e223-4e05-436d-9b1a-c9dfcc103713",
   "metadata": {},
   "outputs": [
    {
     "data": {
      "text/plain": [
       "array([ 64.71181223, 135.12230245])"
      ]
     },
     "execution_count": 19,
     "metadata": {},
     "output_type": "execute_result"
    }
   ],
   "source": [
    "#using scipy on pandas dataframes\n",
    "stats.hmean(women)"
   ]
  },
  {
   "cell_type": "markdown",
   "id": "294fb27f-1a0c-4159-899c-7799e67050c5",
   "metadata": {},
   "source": [
    "&nbsp;"
   ]
  },
  {
   "cell_type": "markdown",
   "id": "be7108ae-f634-4b76-b225-8657e7df4f63",
   "metadata": {},
   "source": [
    "#### **7. Geometric Mean**\n",
    "The geometric mean is the nth root of the product of n numbers. It is used for datasets that are multiplicative in nature or have exponential growth (e.g., rates of return, growth rates).\n",
    "- It is more appropriate than the arithmetic mean when dealing with ratios, percentages, or exponential data\n",
    "- It tends to dampen the impact of extreme values, making it less sensitive to outliers than the arithmetic mean.\n",
    "\n",
    "$$ \n",
    "    \\text{Geometric Mean (G)} = \\left( \\prod_{i=1}^{n} x_i \\right)^{\\frac{1}{n}}\n",
    "$$"
   ]
  },
  {
   "cell_type": "code",
   "execution_count": 20,
   "id": "1d270038-f042-40d4-9fb7-3b55a3a9df46",
   "metadata": {},
   "outputs": [
    {
     "data": {
      "text/plain": [
       "20.109330884536913"
      ]
     },
     "execution_count": 20,
     "metadata": {},
     "output_type": "execute_result"
    }
   ],
   "source": [
    "#using scipy \n",
    "stats.gmean(arr)"
   ]
  },
  {
   "cell_type": "code",
   "execution_count": 21,
   "id": "5a6a7705-2e87-40be-8565-8b35495cff50",
   "metadata": {},
   "outputs": [
    {
     "data": {
      "text/plain": [
       "array([ 64.85599887, 135.92201301])"
      ]
     },
     "execution_count": 21,
     "metadata": {},
     "output_type": "execute_result"
    }
   ],
   "source": [
    "#using scipy on pandas dataframe\n",
    "stats.gmean(women)"
   ]
  },
  {
   "cell_type": "code",
   "execution_count": null,
   "id": "2b41c64b-978a-456e-b858-a68bd075f92c",
   "metadata": {},
   "outputs": [],
   "source": []
  }
 ],
 "metadata": {
  "kernelspec": {
   "display_name": "Python 3 (ipykernel)",
   "language": "python",
   "name": "python3"
  },
  "language_info": {
   "codemirror_mode": {
    "name": "ipython",
    "version": 3
   },
   "file_extension": ".py",
   "mimetype": "text/x-python",
   "name": "python",
   "nbconvert_exporter": "python",
   "pygments_lexer": "ipython3",
   "version": "3.12.4"
  }
 },
 "nbformat": 4,
 "nbformat_minor": 5
}
